{
 "cells": [
  {
   "cell_type": "markdown",
   "metadata": {
    "toc": true
   },
   "source": [
    "<h1>Table of Contents<span class=\"tocSkip\"></span></h1>\n",
    "<div class=\"toc\"><ul class=\"toc-item\"></ul></div>"
   ]
  },
  {
   "cell_type": "markdown",
   "metadata": {},
   "source": [
    "$$\n",
    "\\begin{align}\n",
    "\\max_{v,p,t,e,a} \\quad & f^T v \\\\\n",
    "\\text{subject to} \\quad & Sv = 0, \\\\\n",
    "   & l \\leq v \\leq u, \\\\\n",
    "   & \\sum p \\leq P, && \\text{P: total protein mass} \\\\\n",
    "   & C e = p,  && \\text{C: protein complex stoichiometry}  \\\\\n",
    "   & v_j \\leq \\sum_{i\\in r(j)} k^\\text{eff}_{ij} e_i, && \\text{r(j): enzymes catalyzing reaction j} \\\\\n",
    "   & t_i = p_i / w_i && \\text{Scaling RNA (transcript, $t$)-to-protein by a factor $w$. Simplest case: uniform scaling.} \\\\\n",
    "   & \\log_2(t_i) = \\log_2(t^0_i) + R_i a,  && \\text{R: log-linear regulatory constraints, $R_i$: row $i$} \\\\\n",
    "   & t \\geq \\delta\n",
    "\\end{align}\n",
    "$$\n",
    "where $p^0$ is a constant reference vector (log_2 transformed), and $\\delta$ is a small number (e.g., 0.01 / P), and $w_i$ are RNA-to-protein scaling weights, $p$ is protein, $e$ is enzyme complex, $t$ is transcript, $a$ is regulatory component activity."
   ]
  },
  {
   "cell_type": "markdown",
   "metadata": {},
   "source": [
    "This problem has the general form:"
   ]
  },
  {
   "cell_type": "markdown",
   "metadata": {},
   "source": [
    "$$\n",
    "\\begin{align}\n",
    "\\max_{x} \\quad & f^T x \\\\\n",
    "\\text{subject to} \\quad & l \\leq Ax \\leq u, \\\\     \n",
    "   & \\log(Cx) + Dx = b\n",
    "\\end{align}\n",
    "$$"
   ]
  },
  {
   "cell_type": "markdown",
   "metadata": {},
   "source": [
    "$$\n",
    "\\begin{align}\n",
    "\\max_{x,y} \\quad & f^T x \\\\\n",
    "\\text{subject to} \\quad & l \\leq Ax \\leq u, \\\\     \n",
    "   & y + Dx = b \\\\\n",
    "   & y_i = \\log(x_j)\n",
    "\\end{align}\n",
    "$$"
   ]
  },
  {
   "cell_type": "markdown",
   "metadata": {},
   "source": [
    "Moving $y_i=\\log(x_j)$ into objective with augmented Lagrangian should make the constraint be solved exactly.  Interior point also appropriate?"
   ]
  },
  {
   "cell_type": "markdown",
   "metadata": {},
   "source": [
    "The log constraint comes from:"
   ]
  },
  {
   "cell_type": "markdown",
   "metadata": {},
   "source": [
    "ICA-equivalent form:\n",
    "$$\n",
    "\\begin{align}\n",
    "\\log_2(p) - \\log_2(p^0) &= Ma\n",
    "\\end{align}\n",
    "$$"
   ]
  },
  {
   "cell_type": "markdown",
   "metadata": {},
   "source": [
    "$$\n",
    "\\begin{align}\n",
    "\\log_2(X) - \\log_2(X^0) &= SA\n",
    "\\end{align}\n",
    "$$"
   ]
  },
  {
   "cell_type": "markdown",
   "metadata": {},
   "source": [
    "Note: $\\log(x)$ is quasiconvex on $x > 0$.\n",
    "\n",
    "Can use the augmented Lagrangian of MINOS."
   ]
  },
  {
   "cell_type": "code",
   "execution_count": null,
   "metadata": {},
   "outputs": [],
   "source": []
  },
  {
   "cell_type": "code",
   "execution_count": 165,
   "metadata": {},
   "outputs": [],
   "source": [
    "import pandas as pd\n",
    "import numpy as np\n",
    "import scipy as sp\n",
    "import matplotlib.pyplot as plt"
   ]
  },
  {
   "cell_type": "code",
   "execution_count": 161,
   "metadata": {},
   "outputs": [],
   "source": [
    "%matplotlib inline"
   ]
  },
  {
   "cell_type": "markdown",
   "metadata": {},
   "source": [
    "ICA values"
   ]
  },
  {
   "cell_type": "code",
   "execution_count": 45,
   "metadata": {},
   "outputs": [],
   "source": [
    "df_X0 = pd.read_csv('../data/data_files/log_tpm.csv', index_col=0)\n",
    "df_X = pd.read_csv('../data/data_files/log_tpm_norm.csv', index_col=0)\n",
    "df_M = pd.read_csv('../data/data_files/M.csv', index_col=0)\n",
    "df_A = pd.read_csv('../data/data_files/A.csv', index_col=0)"
   ]
  },
  {
   "cell_type": "code",
   "execution_count": 185,
   "metadata": {},
   "outputs": [],
   "source": [
    "X0 = df_X0.to_numpy()\n",
    "X = df_X.to_numpy()\n",
    "A = df_A.to_numpy()\n",
    "M = df_M.to_numpy()\n",
    "MA = np.dot(M,A)"
   ]
  },
  {
   "cell_type": "code",
   "execution_count": 186,
   "metadata": {},
   "outputs": [
    {
     "name": "stdout",
     "output_type": "stream",
     "text": [
      "X not norm: 0.0 16.4019957054125\n",
      "X norm: -11.336737814951801 12.831169252022299\n"
     ]
    }
   ],
   "source": [
    "print('X not norm:', df_X0.min().min(), df_X0.max().max())\n",
    "print('X norm:', df_X.min().min(), df_X.max().max())"
   ]
  },
  {
   "cell_type": "markdown",
   "metadata": {},
   "source": [
    "df_A.head()"
   ]
  },
  {
   "cell_type": "code",
   "execution_count": 197,
   "metadata": {},
   "outputs": [],
   "source": [
    "### X as fold change:\n",
    "m = X0.shape[0]\n",
    "xref = np.log2(df_X0.iloc[:,:2].mean(1)+1.).to_numpy()\n",
    "xref = xref.reshape((m,1))\n",
    "ncond = X0.shape[1]\n",
    "Xref = np.outer(xref, np.ones((1,ncond)))\n",
    "Xf = np.log2(X0+1) - Xref"
   ]
  },
  {
   "cell_type": "code",
   "execution_count": 198,
   "metadata": {},
   "outputs": [
    {
     "data": {
      "text/plain": [
       "(array([4.00000e+00, 1.60000e+01, 9.00000e+00, 2.20000e+01, 3.20000e+01,\n",
       "        7.00000e+01, 7.10000e+01, 8.50000e+01, 1.11000e+02, 9.70000e+01,\n",
       "        1.65000e+02, 2.17000e+02, 2.72000e+02, 3.30000e+02, 4.01000e+02,\n",
       "        5.16000e+02, 6.98000e+02, 9.23000e+02, 1.22600e+03, 1.56400e+03,\n",
       "        2.34100e+03, 3.40800e+03, 5.22200e+03, 8.79300e+03, 1.72220e+04,\n",
       "        3.90220e+04, 1.02523e+05, 2.67122e+05, 3.62088e+05, 1.61384e+05,\n",
       "        6.06320e+04, 2.56720e+04, 1.20110e+04, 6.37200e+03, 3.61900e+03,\n",
       "        2.23500e+03, 1.36500e+03, 9.15000e+02, 6.36000e+02, 3.98000e+02,\n",
       "        2.72000e+02, 2.10000e+02, 1.45000e+02, 7.20000e+01, 3.70000e+01,\n",
       "        2.00000e+01, 1.40000e+01, 9.00000e+00, 5.00000e+00, 1.00000e+00]),\n",
       " array([-10.0253218 ,  -9.66954844,  -9.31377507,  -8.95800171,\n",
       "         -8.60222834,  -8.24645498,  -7.89068161,  -7.53490825,\n",
       "         -7.17913489,  -6.82336152,  -6.46758816,  -6.11181479,\n",
       "         -5.75604143,  -5.40026806,  -5.0444947 ,  -4.68872134,\n",
       "         -4.33294797,  -3.97717461,  -3.62140124,  -3.26562788,\n",
       "         -2.90985451,  -2.55408115,  -2.19830778,  -1.84253442,\n",
       "         -1.48676106,  -1.13098769,  -0.77521433,  -0.41944096,\n",
       "         -0.0636676 ,   0.29210577,   0.64787913,   1.00365249,\n",
       "          1.35942586,   1.71519922,   2.07097259,   2.42674595,\n",
       "          2.78251932,   3.13829268,   3.49406604,   3.84983941,\n",
       "          4.20561277,   4.56138614,   4.9171595 ,   5.27293287,\n",
       "          5.62870623,   5.98447959,   6.34025296,   6.69602632,\n",
       "          7.05179969,   7.40757305,   7.76334642]),\n",
       " <a list of 50 Patch objects>)"
      ]
     },
     "execution_count": 198,
     "metadata": {},
     "output_type": "execute_result"
    },
    {
     "data": {
      "image/png": "[encoded data removed]",
      "text/plain": [
       "<Figure size 432x288 with 1 Axes>"
      ]
     },
     "metadata": {},
     "output_type": "display_data"
    }
   ],
   "source": [
    "plt.hist((Xf - MA).flatten(), 50)"
   ]
  }
 ],
 "metadata": {
  "hide_input": false,
  "kernelspec": {
   "display_name": "Python3 (cobra)",
   "language": "python",
   "name": "cobra"
  },
  "language_info": {
   "codemirror_mode": {
    "name": "ipython",
    "version": 3
   },
   "file_extension": ".py",
   "mimetype": "text/x-python",
   "name": "python",
   "nbconvert_exporter": "python",
   "pygments_lexer": "ipython3",
   "version": "3.6.10"
  },
  "toc": {
   "base_numbering": 1,
   "nav_menu": {},
   "number_sections": true,
   "sideBar": true,
   "skip_h1_title": false,
   "title_cell": "Table of Contents",
   "title_sidebar": "Contents",
   "toc_cell": true,
   "toc_position": {},
   "toc_section_display": true,
   "toc_window_display": false
  }
 },
 "nbformat": 4,
 "nbformat_minor": 2
}
